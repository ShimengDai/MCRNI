{
 "cells": [
  {
   "cell_type": "code",
   "execution_count": null,
   "id": "8eaccadf",
   "metadata": {},
   "outputs": [],
   "source": [
    "from scipy.stats import rankdata \n",
    "import numpy as np\n",
    "from MCRNI import MCRNI\n",
    "import pandas as pd"
   ]
  },
  {
   "cell_type": "code",
   "execution_count": 15,
   "id": "78435eef",
   "metadata": {},
   "outputs": [
    {
     "name": "stdout",
     "output_type": "stream",
     "text": [
      "Baseline model (GPT2_CNN):\n",
      "📊 === Model Evaluation Report ===\n",
      "\n",
      "Rank Sum (Positive group): 16930.00\n",
      "Rank Sum (Negative group): 14445.00\n",
      "U Statistic (Positive group): 13275.00\n",
      "U Statistic (Negative group): 750.00\n",
      "MCRNI not computed yet. Run compute_mcrni_with_auc() or compute_mcrni_with_R_pos().\n",
      "\n",
      "🔍 Classification Metrics (threshold = 0.50):\n",
      "Confusion Matrix: [[158, 7], [24, 61]]\n",
      "Accuracy: 0.8760\n",
      "Precision: 0.8971\n",
      "Recall: 0.7176\n",
      "F1 Score: 0.7974\n",
      "ROC-AUC: 0.9465\n",
      "\n",
      "📈 ROC-AUC Score (probability ranking): 0.9465\n",
      "\n",
      "MCRNI relative to baseline:\n",
      "TFIDF_RF: -3.976\n",
      "TFIDF_LR: -5.400\n",
      "BERT_CNN: 0.329\n"
     ]
    }
   ],
   "source": [
    "# Load dataset\n",
    "df = pd.read_csv(\"input_data/Recall_topic.csv\")\n",
    "#print(df.columns)\n",
    "y_true = df[\"label\"]\n",
    "y_scores = df[\"GPT2_CNN_prob\"]\n",
    "y_scores1 = df[\"TFIDF_RF_prob\"]\n",
    "y_scores2 = df['TFIDF_LR_prob']\n",
    "y_scores3 = df['BERT_CNN_prob']\n",
    "\n",
    "\n",
    "model = MCRNI(y_true, y_scores)\n",
    "model1 = MCRNI(y_true, y_scores1)\n",
    "model2 = MCRNI(y_true, y_scores2)\n",
    "model3 = MCRNI(y_true, y_scores3)\n",
    "\n",
    "\n",
    "model.__rank__()  # or model.rank()\n",
    "model1.__rank__() \n",
    "model2.__rank__() \n",
    "model3.__rank__() \n",
    "r_thresh = model.rank_sum_pos\n",
    "\n",
    "mcrni1 = model1.compute_mcrni_with_R_pos(r_thresh)\n",
    "mcrni2 = model2.compute_mcrni_with_R_pos(r_thresh)\n",
    "mcrni3 = model3.compute_mcrni_with_R_pos(r_thresh)\n",
    "\n",
    "print(\"Baseline model (GPT2_CNN):\")\n",
    "model.print_report()\n",
    "\n",
    "print(f\"\\nMCRNI relative to baseline:\")\n",
    "print(f\"TFIDF_RF: {mcrni1:.3f}\")\n",
    "print(f\"TFIDF_LR: {mcrni2:.3f}\")\n",
    "print(f\"BERT_CNN: {mcrni3:.3f}\")\n",
    "\n",
    "\n"
   ]
  },
  {
   "cell_type": "code",
   "execution_count": 16,
   "id": "8c7ce2d8",
   "metadata": {},
   "outputs": [
    {
     "name": "stdout",
     "output_type": "stream",
     "text": [
      "Baseline model (GPT2_CNN):\n",
      "📊 === Model Evaluation Report ===\n",
      "\n",
      "Rank Sum (Positive group): 38059.00\n",
      "Rank Sum (Negative group): 5012.00\n",
      "U Statistic (Positive group): 14188.00\n",
      "U Statistic (Negative group): 2162.00\n",
      "MCRNI not computed yet. Run compute_mcrni_with_auc() or compute_mcrni_with_R_pos().\n",
      "\n",
      "🔍 Classification Metrics (threshold = 0.50):\n",
      "Confusion Matrix: [[46, 29], [22, 196]]\n",
      "Accuracy: 0.8259\n",
      "Precision: 0.8711\n",
      "Recall: 0.8991\n",
      "F1 Score: 0.8849\n",
      "ROC-AUC: 0.8678\n",
      "\n",
      "📈 ROC-AUC Score (probability ranking): 0.8678\n",
      "\n",
      "MCRNI relative to baseline:\n",
      "TFIDF_RF: -0.294\n",
      "TFIDF_LR: -3.514\n",
      "BERT_CNN: -1.358\n"
     ]
    }
   ],
   "source": [
    "# Load dataset\n",
    "df = pd.read_csv(\"input_data/Recall_sentiment.csv\")\n",
    "#print(df.columns)\n",
    "y_true = df[\"label\"]\n",
    "y_scores = df[\"GPT2_CNN_prob\"]\n",
    "y_scores1 = df[\"TFIDF_RF_prob\"]\n",
    "y_scores2 = df['TFIDF_LR_prob']\n",
    "y_scores3 = df['BERT_CNN_prob']\n",
    "\n",
    "\n",
    "model = MCRNI(y_true, y_scores)\n",
    "model1 = MCRNI(y_true, y_scores1)\n",
    "model2 = MCRNI(y_true, y_scores2)\n",
    "model3 = MCRNI(y_true, y_scores3)\n",
    "\n",
    "\n",
    "model.__rank__()  # or model.rank()\n",
    "model1.__rank__() \n",
    "model2.__rank__() \n",
    "model3.__rank__() \n",
    "r_thresh = model.rank_sum_pos\n",
    "\n",
    "mcrni1 = model1.compute_mcrni_with_R_pos(r_thresh)\n",
    "mcrni2 = model2.compute_mcrni_with_R_pos(r_thresh)\n",
    "mcrni3 = model3.compute_mcrni_with_R_pos(r_thresh)\n",
    "\n",
    "print(\"Baseline model (GPT2_CNN):\")\n",
    "model.print_report()\n",
    "\n",
    "print(f\"\\nMCRNI relative to baseline:\")\n",
    "print(f\"TFIDF_RF: {mcrni1:.3f}\")\n",
    "print(f\"TFIDF_LR: {mcrni2:.3f}\")\n",
    "print(f\"BERT_CNN: {mcrni3:.3f}\")\n"
   ]
  },
  {
   "cell_type": "code",
   "execution_count": 17,
   "id": "8660d55d",
   "metadata": {},
   "outputs": [
    {
     "name": "stdout",
     "output_type": "stream",
     "text": [
      "Baseline model (GPT2_CNN):\n",
      "📊 === Model Evaluation Report ===\n",
      "\n",
      "Rank Sum (Positive group): 13292.00\n",
      "Rank Sum (Negative group): 18083.00\n",
      "U Statistic (Positive group): 11212.00\n",
      "U Statistic (Negative group): 692.00\n",
      "MCRNI not computed yet. Run compute_mcrni_with_auc() or compute_mcrni_with_R_pos().\n",
      "\n",
      "🔍 Classification Metrics (threshold = 0.50):\n",
      "Confusion Matrix: [[177, 9], [16, 48]]\n",
      "Accuracy: 0.9000\n",
      "Precision: 0.8421\n",
      "Recall: 0.7500\n",
      "F1 Score: 0.7934\n",
      "ROC-AUC: 0.9419\n",
      "\n",
      "📈 ROC-AUC Score (probability ranking): 0.9419\n",
      "\n",
      "MCRNI relative to baseline:\n",
      "TFIDF_RF: -3.359\n",
      "TFIDF_LR: 0.203\n",
      "BERT_CNN: -0.641\n"
     ]
    }
   ],
   "source": [
    "# Load dataset\n",
    "df = pd.read_csv(\"input_data/CRT_topic.csv\")\n",
    "#print(df.columns)\n",
    "y_true = df[\"label\"]\n",
    "y_scores = df[\"GPT2_CNN_prob\"]\n",
    "y_scores1 = df[\"TFIDF_RF_prob\"]\n",
    "y_scores2 = df['TFIDF_LR_prob']\n",
    "y_scores3 = df['BERT_CNN_prob']\n",
    "\n",
    "\n",
    "model = MCRNI(y_true, y_scores)\n",
    "model1 = MCRNI(y_true, y_scores1)\n",
    "model2 = MCRNI(y_true, y_scores2)\n",
    "model3 = MCRNI(y_true, y_scores3)\n",
    "\n",
    "\n",
    "model.__rank__()  # or model.rank()\n",
    "model1.__rank__() \n",
    "model2.__rank__() \n",
    "model3.__rank__() \n",
    "r_thresh = model.rank_sum_pos\n",
    "\n",
    "mcrni1 = model1.compute_mcrni_with_R_pos(r_thresh)\n",
    "mcrni2 = model2.compute_mcrni_with_R_pos(r_thresh)\n",
    "mcrni3 = model3.compute_mcrni_with_R_pos(r_thresh)\n",
    "\n",
    "print(\"Baseline model (GPT2_CNN):\")\n",
    "model.print_report()\n",
    "\n",
    "print(f\"\\nMCRNI relative to baseline:\")\n",
    "print(f\"TFIDF_RF: {mcrni1:.3f}\")\n",
    "print(f\"TFIDF_LR: {mcrni2:.3f}\")\n",
    "print(f\"BERT_CNN: {mcrni3:.3f}\")\n",
    "\n"
   ]
  },
  {
   "cell_type": "code",
   "execution_count": 18,
   "id": "3d5cabc2",
   "metadata": {},
   "outputs": [
    {
     "name": "stdout",
     "output_type": "stream",
     "text": [
      "Baseline model (GPT2_CNN):\n",
      "📊 === Model Evaluation Report ===\n",
      "\n",
      "Rank Sum (Positive group): 20553.00\n",
      "Rank Sum (Negative group): 11832.00\n",
      "U Statistic (Positive group): 12678.00\n",
      "U Statistic (Negative group): 3447.00\n",
      "MCRNI not computed yet. Run compute_mcrni_with_auc() or compute_mcrni_with_R_pos().\n",
      "\n",
      "🔍 Classification Metrics (threshold = 0.50):\n",
      "Confusion Matrix: [[102, 27], [40, 85]]\n",
      "Accuracy: 0.7362\n",
      "Precision: 0.7589\n",
      "Recall: 0.6800\n",
      "F1 Score: 0.7173\n",
      "ROC-AUC: 0.7862\n",
      "\n",
      "📈 ROC-AUC Score (probability ranking): 0.7862\n",
      "\n",
      "MCRNI relative to baseline:\n",
      "TFIDF_RF: -6.240\n",
      "TFIDF_LR: -1.200\n",
      "BERT_CNN: -3.416\n"
     ]
    }
   ],
   "source": [
    "# Load dataset\n",
    "df = pd.read_csv(\"input_data/CRT_sentiment.csv\")\n",
    "#print(df.columns)\n",
    "y_true = df[\"label\"]\n",
    "y_scores = df[\"GPT2_CNN_prob\"]\n",
    "y_scores1 = df[\"TFIDF_RF_prob\"]\n",
    "y_scores2 = df['TFIDF_LR_prob']\n",
    "y_scores3 = df['BERT_CNN_prob']\n",
    "\n",
    "\n",
    "model = MCRNI(y_true, y_scores)\n",
    "model1 = MCRNI(y_true, y_scores1)\n",
    "model2 = MCRNI(y_true, y_scores2)\n",
    "model3 = MCRNI(y_true, y_scores3)\n",
    "\n",
    "\n",
    "model.__rank__()  # or model.rank()\n",
    "model1.__rank__() \n",
    "model2.__rank__() \n",
    "model3.__rank__() \n",
    "r_thresh = model.rank_sum_pos\n",
    "\n",
    "mcrni1 = model1.compute_mcrni_with_R_pos(r_thresh)\n",
    "mcrni2 = model2.compute_mcrni_with_R_pos(r_thresh)\n",
    "mcrni3 = model3.compute_mcrni_with_R_pos(r_thresh)\n",
    "\n",
    "print(\"Baseline model (GPT2_CNN):\")\n",
    "model.print_report()\n",
    "\n",
    "print(f\"\\nMCRNI relative to baseline:\")\n",
    "print(f\"TFIDF_RF: {mcrni1:.3f}\")\n",
    "print(f\"TFIDF_LR: {mcrni2:.3f}\")\n",
    "print(f\"BERT_CNN: {mcrni3:.3f}\")\n",
    "\n"
   ]
  },
  {
   "cell_type": "markdown",
   "id": "e98b3f9f",
   "metadata": {},
   "source": [
    "# Plot "
   ]
  },
  {
   "cell_type": "code",
   "execution_count": 20,
   "id": "c4e2d2bd",
   "metadata": {},
   "outputs": [],
   "source": [
    "import importlib.util\n",
    "import sys\n",
    "\n",
    "# Load plot.py\n",
    "spec = importlib.util.spec_from_file_location(\"plot\", \"plot.py\")\n",
    "plot = importlib.util.module_from_spec(spec)\n",
    "sys.modules[\"plot\"] = plot\n",
    "spec.loader.exec_module(plot)\n"
   ]
  },
  {
   "cell_type": "code",
   "execution_count": 21,
   "id": "ce716ee8",
   "metadata": {},
   "outputs": [
    {
     "data": {
      "text/html": [
       "<div>\n",
       "<style scoped>\n",
       "    .dataframe tbody tr th:only-of-type {\n",
       "        vertical-align: middle;\n",
       "    }\n",
       "\n",
       "    .dataframe tbody tr th {\n",
       "        vertical-align: top;\n",
       "    }\n",
       "\n",
       "    .dataframe thead th {\n",
       "        text-align: right;\n",
       "    }\n",
       "</style>\n",
       "<table border=\"1\" class=\"dataframe\">\n",
       "  <thead>\n",
       "    <tr style=\"text-align: right;\">\n",
       "      <th></th>\n",
       "      <th>Confusion Matrix</th>\n",
       "      <th>Accuracy</th>\n",
       "      <th>Precision</th>\n",
       "      <th>Recall</th>\n",
       "      <th>F1 Score</th>\n",
       "      <th>ROC-AUC</th>\n",
       "      <th>Model</th>\n",
       "      <th>MCRNI</th>\n",
       "      <th>Rank Sum Pos</th>\n",
       "      <th>Rank Sum Neg</th>\n",
       "      <th>U Stat Pos</th>\n",
       "      <th>U Stat Neg</th>\n",
       "    </tr>\n",
       "  </thead>\n",
       "  <tbody>\n",
       "    <tr>\n",
       "      <th>0</th>\n",
       "      <td>[[186, 0], [47, 17]]</td>\n",
       "      <td>0.812</td>\n",
       "      <td>1.0</td>\n",
       "      <td>0.265625</td>\n",
       "      <td>0.419753</td>\n",
       "      <td>0.925739</td>\n",
       "      <td>model_0</td>\n",
       "      <td>79.18750</td>\n",
       "      <td>13100</td>\n",
       "      <td>18275</td>\n",
       "      <td>11020.0</td>\n",
       "      <td>884.0</td>\n",
       "    </tr>\n",
       "    <tr>\n",
       "      <th>1</th>\n",
       "      <td>[[186, 0], [47, 17]]</td>\n",
       "      <td>0.812</td>\n",
       "      <td>1.0</td>\n",
       "      <td>0.265625</td>\n",
       "      <td>0.419753</td>\n",
       "      <td>0.925907</td>\n",
       "      <td>model_1</td>\n",
       "      <td>79.21875</td>\n",
       "      <td>13102</td>\n",
       "      <td>18273</td>\n",
       "      <td>11022.0</td>\n",
       "      <td>882.0</td>\n",
       "    </tr>\n",
       "    <tr>\n",
       "      <th>2</th>\n",
       "      <td>[[186, 0], [47, 17]]</td>\n",
       "      <td>0.812</td>\n",
       "      <td>1.0</td>\n",
       "      <td>0.265625</td>\n",
       "      <td>0.419753</td>\n",
       "      <td>0.922211</td>\n",
       "      <td>model_10</td>\n",
       "      <td>78.53125</td>\n",
       "      <td>13058</td>\n",
       "      <td>18317</td>\n",
       "      <td>10978.0</td>\n",
       "      <td>926.0</td>\n",
       "    </tr>\n",
       "    <tr>\n",
       "      <th>3</th>\n",
       "      <td>[[186, 0], [47, 17]]</td>\n",
       "      <td>0.812</td>\n",
       "      <td>1.0</td>\n",
       "      <td>0.265625</td>\n",
       "      <td>0.419753</td>\n",
       "      <td>0.923051</td>\n",
       "      <td>model_11</td>\n",
       "      <td>78.68750</td>\n",
       "      <td>13068</td>\n",
       "      <td>18307</td>\n",
       "      <td>10988.0</td>\n",
       "      <td>916.0</td>\n",
       "    </tr>\n",
       "    <tr>\n",
       "      <th>4</th>\n",
       "      <td>[[186, 0], [29, 35]]</td>\n",
       "      <td>0.884</td>\n",
       "      <td>1.0</td>\n",
       "      <td>0.546875</td>\n",
       "      <td>0.707071</td>\n",
       "      <td>0.936324</td>\n",
       "      <td>model_12</td>\n",
       "      <td>81.15625</td>\n",
       "      <td>13226</td>\n",
       "      <td>18149</td>\n",
       "      <td>11146.0</td>\n",
       "      <td>758.0</td>\n",
       "    </tr>\n",
       "  </tbody>\n",
       "</table>\n",
       "</div>"
      ],
      "text/plain": [
       "       Confusion Matrix  Accuracy  Precision    Recall  F1 Score   ROC-AUC  \\\n",
       "0  [[186, 0], [47, 17]]     0.812        1.0  0.265625  0.419753  0.925739   \n",
       "1  [[186, 0], [47, 17]]     0.812        1.0  0.265625  0.419753  0.925907   \n",
       "2  [[186, 0], [47, 17]]     0.812        1.0  0.265625  0.419753  0.922211   \n",
       "3  [[186, 0], [47, 17]]     0.812        1.0  0.265625  0.419753  0.923051   \n",
       "4  [[186, 0], [29, 35]]     0.884        1.0  0.546875  0.707071  0.936324   \n",
       "\n",
       "      Model     MCRNI  Rank Sum Pos  Rank Sum Neg  U Stat Pos  U Stat Neg  \n",
       "0   model_0  79.18750         13100         18275     11020.0       884.0  \n",
       "1   model_1  79.21875         13102         18273     11022.0       882.0  \n",
       "2  model_10  78.53125         13058         18317     10978.0       926.0  \n",
       "3  model_11  78.68750         13068         18307     10988.0       916.0  \n",
       "4  model_12  81.15625         13226         18149     11146.0       758.0  "
      ]
     },
     "execution_count": 21,
     "metadata": {},
     "output_type": "execute_result"
    }
   ],
   "source": [
    "# Load metrics\n",
    "df_metrics = plot.load_metrics('results/metrics_summary.csv')\n",
    "\n",
    "# Preview\n",
    "df_metrics.head()\n"
   ]
  },
  {
   "cell_type": "code",
   "execution_count": 22,
   "id": "dc56e090",
   "metadata": {},
   "outputs": [
    {
     "data": {
      "image/png": "[encoded data removed]",
      "text/plain": [
       "<Figure size 1000x600 with 1 Axes>"
      ]
     },
     "metadata": {},
     "output_type": "display_data"
    }
   ],
   "source": [
    "plot.plot_mcrni_histogram(df_metrics)\n"
   ]
  },
  {
   "cell_type": "code",
   "execution_count": 23,
   "id": "a2b651bf",
   "metadata": {},
   "outputs": [
    {
     "ename": "KeyError",
     "evalue": "'AUC'",
     "output_type": "error",
     "traceback": [
      "\u001b[0;31m---------------------------------------------------------------------------\u001b[0m",
      "\u001b[0;31mKeyError\u001b[0m                                  Traceback (most recent call last)",
      "\u001b[0;32m/var/folders/_9/9qzl_2y91kxbyf9xhbz_v0y40000gn/T/ipykernel_69770/1102051827.py\u001b[0m in \u001b[0;36m?\u001b[0;34m()\u001b[0m\n\u001b[0;32m----> 1\u001b[0;31m \u001b[0mplot\u001b[0m\u001b[0;34m.\u001b[0m\u001b[0mplot_metric_bars\u001b[0m\u001b[0;34m(\u001b[0m\u001b[0mdf_metrics\u001b[0m\u001b[0;34m,\u001b[0m \u001b[0mmetric\u001b[0m\u001b[0;34m=\u001b[0m\u001b[0;34m'AUC'\u001b[0m\u001b[0;34m)\u001b[0m\u001b[0;34m\u001b[0m\u001b[0;34m\u001b[0m\u001b[0m\n\u001b[0m",
      "\u001b[0;32m~/Dropbox/Michigan State/Eighth semester/disseration/Chapter 3/mcrni/plot.py\u001b[0m in \u001b[0;36m?\u001b[0;34m(df, metric, save_path)\u001b[0m\n\u001b[1;32m     26\u001b[0m \u001b[0;32mdef\u001b[0m \u001b[0mplot_metric_bars\u001b[0m\u001b[0;34m(\u001b[0m\u001b[0mdf\u001b[0m\u001b[0;34m,\u001b[0m \u001b[0mmetric\u001b[0m\u001b[0;34m=\u001b[0m\u001b[0;34m'AUC'\u001b[0m\u001b[0;34m,\u001b[0m \u001b[0msave_path\u001b[0m\u001b[0;34m=\u001b[0m\u001b[0;32mNone\u001b[0m\u001b[0;34m)\u001b[0m\u001b[0;34m:\u001b[0m\u001b[0;34m\u001b[0m\u001b[0;34m\u001b[0m\u001b[0m\n\u001b[1;32m     27\u001b[0m     \u001b[0;34m\"\"\"Plot bar plot for a selected metric (e.g., AUC, Accuracy).\"\"\"\u001b[0m\u001b[0;34m\u001b[0m\u001b[0;34m\u001b[0m\u001b[0m\n\u001b[1;32m     28\u001b[0m     \u001b[0mplt\u001b[0m\u001b[0;34m.\u001b[0m\u001b[0mfigure\u001b[0m\u001b[0;34m(\u001b[0m\u001b[0mfigsize\u001b[0m\u001b[0;34m=\u001b[0m\u001b[0;34m(\u001b[0m\u001b[0;36m12\u001b[0m\u001b[0;34m,\u001b[0m \u001b[0;36m6\u001b[0m\u001b[0;34m)\u001b[0m\u001b[0;34m)\u001b[0m\u001b[0;34m\u001b[0m\u001b[0;34m\u001b[0m\u001b[0m\n\u001b[0;32m---> 29\u001b[0;31m     \u001b[0msorted_df\u001b[0m \u001b[0;34m=\u001b[0m \u001b[0mdf\u001b[0m\u001b[0;34m.\u001b[0m\u001b[0msort_values\u001b[0m\u001b[0;34m(\u001b[0m\u001b[0mmetric\u001b[0m\u001b[0;34m,\u001b[0m \u001b[0mascending\u001b[0m\u001b[0;34m=\u001b[0m\u001b[0;32mFalse\u001b[0m\u001b[0;34m)\u001b[0m\u001b[0;34m\u001b[0m\u001b[0;34m\u001b[0m\u001b[0m\n\u001b[0m\u001b[1;32m     30\u001b[0m     \u001b[0msns\u001b[0m\u001b[0;34m.\u001b[0m\u001b[0mbarplot\u001b[0m\u001b[0;34m(\u001b[0m\u001b[0mdata\u001b[0m\u001b[0;34m=\u001b[0m\u001b[0msorted_df\u001b[0m\u001b[0;34m,\u001b[0m \u001b[0mx\u001b[0m\u001b[0;34m=\u001b[0m\u001b[0;34m'Model'\u001b[0m\u001b[0;34m,\u001b[0m \u001b[0my\u001b[0m\u001b[0;34m=\u001b[0m\u001b[0mmetric\u001b[0m\u001b[0;34m,\u001b[0m \u001b[0mpalette\u001b[0m\u001b[0;34m=\u001b[0m\u001b[0;34m'viridis'\u001b[0m\u001b[0;34m)\u001b[0m\u001b[0;34m\u001b[0m\u001b[0;34m\u001b[0m\u001b[0m\n\u001b[1;32m     31\u001b[0m     \u001b[0mplt\u001b[0m\u001b[0;34m.\u001b[0m\u001b[0mtitle\u001b[0m\u001b[0;34m(\u001b[0m\u001b[0;34mf'\u001b[0m\u001b[0;34m{\u001b[0m\u001b[0mmetric\u001b[0m\u001b[0;34m}\u001b[0m\u001b[0;34m per Model\u001b[0m\u001b[0;34m'\u001b[0m\u001b[0;34m)\u001b[0m\u001b[0;34m\u001b[0m\u001b[0;34m\u001b[0m\u001b[0m\n\u001b[1;32m     32\u001b[0m     \u001b[0mplt\u001b[0m\u001b[0;34m.\u001b[0m\u001b[0mxlabel\u001b[0m\u001b[0;34m(\u001b[0m\u001b[0;34m'Model'\u001b[0m\u001b[0;34m)\u001b[0m\u001b[0;34m\u001b[0m\u001b[0;34m\u001b[0m\u001b[0m\n",
      "\u001b[0;32m/opt/anaconda3/envs/CMSE/lib/python3.12/site-packages/pandas/core/frame.py\u001b[0m in \u001b[0;36m?\u001b[0;34m(self, by, axis, ascending, inplace, kind, na_position, ignore_index, key)\u001b[0m\n\u001b[1;32m   7185\u001b[0m             \u001b[0;34m)\u001b[0m\u001b[0;34m\u001b[0m\u001b[0;34m\u001b[0m\u001b[0m\n\u001b[1;32m   7186\u001b[0m         \u001b[0;32melif\u001b[0m \u001b[0mlen\u001b[0m\u001b[0;34m(\u001b[0m\u001b[0mby\u001b[0m\u001b[0;34m)\u001b[0m\u001b[0;34m:\u001b[0m\u001b[0;34m\u001b[0m\u001b[0;34m\u001b[0m\u001b[0m\n\u001b[1;32m   7187\u001b[0m             \u001b[0;31m# len(by) == 1\u001b[0m\u001b[0;34m\u001b[0m\u001b[0;34m\u001b[0m\u001b[0m\n\u001b[1;32m   7188\u001b[0m \u001b[0;34m\u001b[0m\u001b[0m\n\u001b[0;32m-> 7189\u001b[0;31m             \u001b[0mk\u001b[0m \u001b[0;34m=\u001b[0m \u001b[0mself\u001b[0m\u001b[0;34m.\u001b[0m\u001b[0m_get_label_or_level_values\u001b[0m\u001b[0;34m(\u001b[0m\u001b[0mby\u001b[0m\u001b[0;34m[\u001b[0m\u001b[0;36m0\u001b[0m\u001b[0;34m]\u001b[0m\u001b[0;34m,\u001b[0m \u001b[0maxis\u001b[0m\u001b[0;34m=\u001b[0m\u001b[0maxis\u001b[0m\u001b[0;34m)\u001b[0m\u001b[0;34m\u001b[0m\u001b[0;34m\u001b[0m\u001b[0m\n\u001b[0m\u001b[1;32m   7190\u001b[0m \u001b[0;34m\u001b[0m\u001b[0m\n\u001b[1;32m   7191\u001b[0m             \u001b[0;31m# need to rewrap column in Series to apply key function\u001b[0m\u001b[0;34m\u001b[0m\u001b[0;34m\u001b[0m\u001b[0m\n\u001b[1;32m   7192\u001b[0m             \u001b[0;32mif\u001b[0m \u001b[0mkey\u001b[0m \u001b[0;32mis\u001b[0m \u001b[0;32mnot\u001b[0m \u001b[0;32mNone\u001b[0m\u001b[0;34m:\u001b[0m\u001b[0;34m\u001b[0m\u001b[0;34m\u001b[0m\u001b[0m\n",
      "\u001b[0;32m/opt/anaconda3/envs/CMSE/lib/python3.12/site-packages/pandas/core/generic.py\u001b[0m in \u001b[0;36m?\u001b[0;34m(self, key, axis)\u001b[0m\n\u001b[1;32m   1907\u001b[0m             \u001b[0mvalues\u001b[0m \u001b[0;34m=\u001b[0m \u001b[0mself\u001b[0m\u001b[0;34m.\u001b[0m\u001b[0mxs\u001b[0m\u001b[0;34m(\u001b[0m\u001b[0mkey\u001b[0m\u001b[0;34m,\u001b[0m \u001b[0maxis\u001b[0m\u001b[0;34m=\u001b[0m\u001b[0mother_axes\u001b[0m\u001b[0;34m[\u001b[0m\u001b[0;36m0\u001b[0m\u001b[0;34m]\u001b[0m\u001b[0;34m)\u001b[0m\u001b[0;34m.\u001b[0m\u001b[0m_values\u001b[0m\u001b[0;34m\u001b[0m\u001b[0;34m\u001b[0m\u001b[0m\n\u001b[1;32m   1908\u001b[0m         \u001b[0;32melif\u001b[0m \u001b[0mself\u001b[0m\u001b[0;34m.\u001b[0m\u001b[0m_is_level_reference\u001b[0m\u001b[0;34m(\u001b[0m\u001b[0mkey\u001b[0m\u001b[0;34m,\u001b[0m \u001b[0maxis\u001b[0m\u001b[0;34m=\u001b[0m\u001b[0maxis\u001b[0m\u001b[0;34m)\u001b[0m\u001b[0;34m:\u001b[0m\u001b[0;34m\u001b[0m\u001b[0;34m\u001b[0m\u001b[0m\n\u001b[1;32m   1909\u001b[0m             \u001b[0mvalues\u001b[0m \u001b[0;34m=\u001b[0m \u001b[0mself\u001b[0m\u001b[0;34m.\u001b[0m\u001b[0maxes\u001b[0m\u001b[0;34m[\u001b[0m\u001b[0maxis\u001b[0m\u001b[0;34m]\u001b[0m\u001b[0;34m.\u001b[0m\u001b[0mget_level_values\u001b[0m\u001b[0;34m(\u001b[0m\u001b[0mkey\u001b[0m\u001b[0;34m)\u001b[0m\u001b[0;34m.\u001b[0m\u001b[0m_values\u001b[0m\u001b[0;34m\u001b[0m\u001b[0;34m\u001b[0m\u001b[0m\n\u001b[1;32m   1910\u001b[0m         \u001b[0;32melse\u001b[0m\u001b[0;34m:\u001b[0m\u001b[0;34m\u001b[0m\u001b[0;34m\u001b[0m\u001b[0m\n\u001b[0;32m-> 1911\u001b[0;31m             \u001b[0;32mraise\u001b[0m \u001b[0mKeyError\u001b[0m\u001b[0;34m(\u001b[0m\u001b[0mkey\u001b[0m\u001b[0;34m)\u001b[0m\u001b[0;34m\u001b[0m\u001b[0;34m\u001b[0m\u001b[0m\n\u001b[0m\u001b[1;32m   1912\u001b[0m \u001b[0;34m\u001b[0m\u001b[0m\n\u001b[1;32m   1913\u001b[0m         \u001b[0;31m# Check for duplicates\u001b[0m\u001b[0;34m\u001b[0m\u001b[0;34m\u001b[0m\u001b[0m\n\u001b[1;32m   1914\u001b[0m         \u001b[0;32mif\u001b[0m \u001b[0mvalues\u001b[0m\u001b[0;34m.\u001b[0m\u001b[0mndim\u001b[0m \u001b[0;34m>\u001b[0m \u001b[0;36m1\u001b[0m\u001b[0;34m:\u001b[0m\u001b[0;34m\u001b[0m\u001b[0;34m\u001b[0m\u001b[0m\n",
      "\u001b[0;31mKeyError\u001b[0m: 'AUC'"
     ]
    },
    {
     "data": {
      "text/plain": [
       "<Figure size 1200x600 with 0 Axes>"
      ]
     },
     "metadata": {},
     "output_type": "display_data"
    }
   ],
   "source": [
    "plot.plot_metric_bars(df_metrics, metric='AUC')\n"
   ]
  },
  {
   "cell_type": "code",
   "execution_count": 24,
   "id": "9e67382e",
   "metadata": {},
   "outputs": [
    {
     "name": "stderr",
     "output_type": "stream",
     "text": [
      "/Users/shimengdai/Dropbox/Michigan State/Eighth semester/disseration/Chapter 3/mcrni/plot.py:30: FutureWarning: \n",
      "\n",
      "Passing `palette` without assigning `hue` is deprecated and will be removed in v0.14.0. Assign the `x` variable to `hue` and set `legend=False` for the same effect.\n",
      "\n",
      "  sns.barplot(data=sorted_df, x='Model', y=metric, palette='viridis')\n"
     ]
    },
    {
     "data": {
      "image/png": "[encoded data removed]",
      "text/plain": [
       "<Figure size 1200x600 with 1 Axes>"
      ]
     },
     "metadata": {},
     "output_type": "display_data"
    }
   ],
   "source": [
    "plot.plot_metric_bars(df_metrics, metric='Accuracy')\n"
   ]
  }
 ],
 "metadata": {
  "kernelspec": {
   "display_name": "CMSE",
   "language": "python",
   "name": "python3"
  },
  "language_info": {
   "codemirror_mode": {
    "name": "ipython",
    "version": 3
   },
   "file_extension": ".py",
   "mimetype": "text/x-python",
   "name": "python",
   "nbconvert_exporter": "python",
   "pygments_lexer": "ipython3",
   "version": "3.12.4"
  }
 },
 "nbformat": 4,
 "nbformat_minor": 5
}
